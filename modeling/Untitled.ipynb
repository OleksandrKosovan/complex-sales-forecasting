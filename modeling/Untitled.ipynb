{
 "cells": [
  {
   "cell_type": "markdown",
   "id": "c8aa0a38",
   "metadata": {},
   "source": [
    "### Imports"
   ]
  },
  {
   "cell_type": "code",
   "execution_count": 71,
   "id": "8acd2d70",
   "metadata": {},
   "outputs": [],
   "source": [
    "import os\n",
    "from time import time\n",
    "import warnings"
   ]
  },
  {
   "cell_type": "code",
   "execution_count": 72,
   "id": "d1a06da1",
   "metadata": {},
   "outputs": [],
   "source": [
    "from tqdm.autonotebook import tqdm\n",
    "\n",
    "from statsforecast.models import (\n",
    "    HistoricAverage,\n",
    "    Naive,\n",
    "    RandomWalkWithDrift,\n",
    "    SeasonalNaive,\n",
    "    WindowAverage,\n",
    "    SeasonalWindowAverage,\n",
    ")"
   ]
  },
  {
   "cell_type": "code",
   "execution_count": 73,
   "id": "af53f136",
   "metadata": {},
   "outputs": [],
   "source": [
    "import pandas as pd\n",
    "from statsforecast import StatsForecast\n",
    "from fugue import transform\n",
    "from datasetsforecast.losses import mse, mae, rmse, mape, smape"
   ]
  },
  {
   "cell_type": "code",
   "execution_count": 74,
   "id": "87b36e58",
   "metadata": {},
   "outputs": [],
   "source": [
    "warnings.filterwarnings('ignore')"
   ]
  },
  {
   "cell_type": "markdown",
   "id": "4b327922",
   "metadata": {},
   "source": [
    "### Constants"
   ]
  },
  {
   "cell_type": "code",
   "execution_count": 75,
   "id": "3ae77f2b",
   "metadata": {},
   "outputs": [],
   "source": [
    "DATA_FOLDER = \"data/\"\n",
    "M5_FILE = \"m5-dataset.parquet.gzip\"\n",
    "\n",
    "HORIZON = 14\n",
    "N_WINDOWS = 3\n",
    "\n",
    "FULL_RESULTS_PATH = \"results/full_cv/\"\n",
    "EVALUATION_RESULTS_PATH = \"results/evaluation/\"\n",
    "METRICS_RESULTS_PATH = \"results/metrics/\""
   ]
  },
  {
   "cell_type": "code",
   "execution_count": 76,
   "id": "dfa55f60",
   "metadata": {},
   "outputs": [],
   "source": [
    "experiments_config = [\n",
    "    {\n",
    "        \"experiment_name\": \"m5-baseline\",\n",
    "        \"data\": os.path.join(DATA_FOLDER, M5_FILE),\n",
    "        \"models\": [\n",
    "            HistoricAverage(),\n",
    "            Naive(),\n",
    "            RandomWalkWithDrift(),\n",
    "            SeasonalNaive(season_length=HORIZON),\n",
    "            WindowAverage(window_size=HORIZON),\n",
    "            SeasonalWindowAverage(season_length=HORIZON, window_size=HORIZON),\n",
    "        ],\n",
    "    },\n",
    "    \n",
    "    {\n",
    "        \"experiment_name\": \"\",\n",
    "        \"data\": os.path.join(DATA_FOLDER, M5_FILE),\n",
    "        \"models\": []\n",
    "    }\n",
    "]"
   ]
  },
  {
   "cell_type": "markdown",
   "id": "8c8442bf",
   "metadata": {},
   "source": [
    "### Code base for Experiments"
   ]
  },
  {
   "cell_type": "code",
   "execution_count": 77,
   "id": "c60acfdc",
   "metadata": {},
   "outputs": [],
   "source": [
    "def convert_classes_to_string(class_list):\n",
    "    class_string = '-'.join([obj.__class__.__name__ for obj in class_list])\n",
    "    return class_string\n",
    "\n",
    "\n",
    "def check_folders():\n",
    "    folders = [\n",
    "        FULL_RESULTS_PATH,\n",
    "        EVALUATION_RESULTS_PATH, \n",
    "        METRICS_RESULTS_PATH\n",
    "    ]\n",
    "    for path in folders:\n",
    "        isExist = os.path.exists(path)\n",
    "        if not isExist:\n",
    "            os.makedirs(path)"
   ]
  },
  {
   "cell_type": "code",
   "execution_count": 78,
   "id": "444d34dc",
   "metadata": {},
   "outputs": [],
   "source": [
    "class ClassicModel:\n",
    "    def __init__(self, df: pd.DataFrame, models: list) -> None:\n",
    "        self.df = df\n",
    "        self.models = models\n",
    "        self.metrics = [mse, mae, rmse, mape, smape]\n",
    "    \n",
    "    def modeling(self) -> pd.DataFrame:\n",
    "        sf = StatsForecast(\n",
    "            models=self.models, \n",
    "            freq='D', \n",
    "            n_jobs=-1,\n",
    "        )\n",
    "        result = sf.cross_validation(\n",
    "            df=self.df, \n",
    "            h=HORIZON, \n",
    "            n_windows=N_WINDOWS, \n",
    "            step_size=HORIZON, \n",
    "            level=[90]\n",
    "        )\n",
    "        return result\n",
    "    \n",
    "    def evaludate_cross_validation(self, cv_results: pd.DataFrame) -> pd.DataFrame:\n",
    "        cv_results[\"unique_id\"] = cv_results.index\n",
    "        cv_results = cv_results.reset_index(drop=True)\n",
    "\n",
    "        str_models = cv_results.loc[:, ~cv_results.columns.str.contains('unique_id|y|ds|cutoff|lo|hi')].columns\n",
    "        str_models = ','.join([f\"{model}:float\" for model in str_models])\n",
    "        \n",
    "        evaluation_df = transform(\n",
    "            cv_results.loc[:, ~cv_results.columns.str.contains('lo|hi')], \n",
    "            self.evaluate, \n",
    "            params={'metrics': self.metrics}, \n",
    "            schema=f\"unique_id:str,cutoff:str,metric:str, {str_models}\", \n",
    "            as_local=True,\n",
    "            partition={'by': ['unique_id', 'cutoff']}\n",
    "        )\n",
    "        return evaluation_df\n",
    "\n",
    "    def run(self):\n",
    "        file_name = convert_classes_to_string(self.models) + \".csv\"\n",
    "        check_folders()\n",
    "\n",
    "        print(\"Starting cross validation...\")\n",
    "        init = time()\n",
    "        result = self.modeling()\n",
    "        end = time()\n",
    "        print(f\"Cross Validation Finished In: {(end - init) / 60}\")\n",
    "\n",
    "        print(f\"Saving CV results as {file_name}...\")\n",
    "        results_path = os.path.join(FULL_RESULTS_PATH, file_name)\n",
    "        result.to_csv(results_path, index=False)\n",
    "\n",
    "        print(\"Starting Evaluation...\")\n",
    "        init = time()\n",
    "        evaluation = self.evaludate_cross_validation(result)\n",
    "        end = time()\n",
    "        print(f\"Evaluation Finished In: {(end - init) / 60}\")\n",
    "\n",
    "        print(f\"Saving evaluation as {file_name}...\")\n",
    "        evaluation.to_csv(os.path.join(EVALUATION_RESULTS_PATH, file_name), index=False)\n",
    "\n",
    "        print(\"Saving metrics...\")\n",
    "        metrics = evaluation.groupby(['metric']).mean(numeric_only=True)\n",
    "        metrics.to_csv(os.path.join(METRICS_RESULTS_PATH, file_name), index=False)\n",
    "        print(metrics)\n",
    "\n",
    "        print(\"Done!\")\n",
    "\n",
    "    @staticmethod\n",
    "    def evaluate(df: pd.DataFrame, metrics: list) -> pd.DataFrame:\n",
    "        eval_ = {}\n",
    "        models = df.loc[:, ~df.columns.str.contains('unique_id|y|ds|cutoff|lo|hi')].columns\n",
    "        for model in models:\n",
    "            eval_[model] = {}\n",
    "            for metric in metrics:\n",
    "                eval_[model][metric.__name__] = metric(df['y'], df[model])\n",
    "        eval_df = pd.DataFrame(eval_).rename_axis('metric').reset_index()\n",
    "        eval_df.insert(0, 'cutoff', df['cutoff'].iloc[0])\n",
    "        eval_df.insert(0, 'unique_id', df['unique_id'].iloc[0])\n",
    "        return eval_df"
   ]
  },
  {
   "cell_type": "markdown",
   "id": "250bce54",
   "metadata": {},
   "source": [
    "### Run Experiments"
   ]
  },
  {
   "cell_type": "code",
   "execution_count": 79,
   "id": "9098ab11",
   "metadata": {},
   "outputs": [],
   "source": [
    "config = experiments_config[0]"
   ]
  },
  {
   "cell_type": "code",
   "execution_count": 80,
   "id": "813c352f",
   "metadata": {},
   "outputs": [
    {
     "name": "stdout",
     "output_type": "stream",
     "text": [
      "Starting cross validation...\n",
      "Cross Validation Finished In: 0.49539386431376137\n",
      "Saving CV results as HistoricAverage-Naive-RandomWalkWithDrift-SeasonalNaive-WindowAverage-SeasonalWindowAverage.csv...\n",
      "Starting Evaluation...\n",
      "Evaluation Finished In: 17.499055035909016\n",
      "Saving evaluation as HistoricAverage-Naive-RandomWalkWithDrift-SeasonalNaive-WindowAverage-SeasonalWindowAverage.csv...\n",
      "Saving metrics...\n",
      "        HistoricAverage      Naive         RWD  SeasonalNaive  WindowAverage  \\\n",
      "metric                                                                         \n",
      "mae            1.150872   1.345297    1.353526       1.250565       1.031242   \n",
      "mape          27.010265  40.528393   40.771969      38.057278      26.771885   \n",
      "mse            6.036355   8.400986    8.446992       7.541581       4.536812   \n",
      "rmse           1.435070   1.720832    1.726687       1.749777       1.312924   \n",
      "smape        142.423172  84.071693  157.073135      82.295830     126.161217   \n",
      "\n",
      "            SeasWA  \n",
      "metric              \n",
      "mae       1.072436  \n",
      "mape     27.349192  \n",
      "mse       5.015110  \n",
      "rmse      1.376366  \n",
      "smape   132.071579  \n",
      "Done!\n"
     ]
    }
   ],
   "source": [
    "df = pd.read_parquet(config[\"data\"])\n",
    "\n",
    "inst = ClassicModel(df, config[\"models\"])\n",
    "inst.run()"
   ]
  },
  {
   "cell_type": "code",
   "execution_count": null,
   "id": "913f01c8",
   "metadata": {},
   "outputs": [],
   "source": []
  },
  {
   "cell_type": "code",
   "execution_count": null,
   "id": "7c684087",
   "metadata": {},
   "outputs": [],
   "source": []
  },
  {
   "cell_type": "code",
   "execution_count": null,
   "id": "323222c2",
   "metadata": {},
   "outputs": [],
   "source": []
  },
  {
   "cell_type": "code",
   "execution_count": null,
   "id": "6be4aff7",
   "metadata": {},
   "outputs": [],
   "source": []
  }
 ],
 "metadata": {
  "kernelspec": {
   "display_name": "PhD env",
   "language": "python",
   "name": "phd"
  },
  "language_info": {
   "codemirror_mode": {
    "name": "ipython",
    "version": 3
   },
   "file_extension": ".py",
   "mimetype": "text/x-python",
   "name": "python",
   "nbconvert_exporter": "python",
   "pygments_lexer": "ipython3",
   "version": "3.10.5"
  }
 },
 "nbformat": 4,
 "nbformat_minor": 5
}
